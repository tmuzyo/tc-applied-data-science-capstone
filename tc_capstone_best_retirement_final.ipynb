{
 "cells": [
  {
   "cell_type": "markdown",
   "metadata": {},
   "source": [
    "## Steps for performing the analysis:\n",
    "1. Get Postal Codes and Zip Codes for Downtown Toronto and Fort Myers\n",
    "2. Get the latitudes and longitudes for both cities\n",
    "3. Get the facilities in both cities\n",
    "    3.1 Shortlist the facilities and services into the essentials for retirees (Filter for Venue Category in Foursquare API is required)\n",
    "        3.1.1 Health Care\n",
    "        3.1.2 Transportation and Travel\n",
    "        3.1.3 Government and Public Services\n",
    "        3.1.4 Amenities\n",
    "        3.1.5 Art, Culture and community\n",
    "4. Use the scoring model similar to the one used by Maclean's: https://www.macleans.ca/economy/best-communities-in-canada-2019-methodology/, and get the ranking of each categories for comparison\n"
   ]
  },
  {
   "cell_type": "code",
   "execution_count": 1,
   "metadata": {},
   "outputs": [
    {
     "name": "stdout",
     "output_type": "stream",
     "text": [
      "Requirement already satisfied: beautifulsoup4 in /home/jupyterlab/conda/envs/python/lib/python3.6/site-packages (4.9.1)\n",
      "Requirement already satisfied: soupsieve>1.2 in /home/jupyterlab/conda/envs/python/lib/python3.6/site-packages (from beautifulsoup4) (2.0.1)\n",
      "Requirement already satisfied: lxml in /home/jupyterlab/conda/envs/python/lib/python3.6/site-packages (4.5.2)\n",
      "WARNING: The easy_install command is deprecated and will be removed in a future version.\n",
      "Searching for lxml\n",
      "Best match: lxml 4.5.2\n",
      "\n",
      "Using /home/jupyterlab/conda/envs/python/lib/python3.6/site-packages\n",
      "Because this distribution was installed --multi-version, before you can\n",
      "import modules from this package in an application, you will need to\n",
      "'import pkg_resources' and then use a 'require()' call similar to one of\n",
      "these examples, in order to select the desired version:\n",
      "\n",
      "    pkg_resources.require(\"lxml\")  # latest installed version\n",
      "    pkg_resources.require(\"lxml==4.5.2\")  # this exact version\n",
      "    pkg_resources.require(\"lxml>=4.5.2\")  # this version or higher\n",
      "\n",
      "Processing dependencies for lxml\n",
      "Finished processing dependencies for lxml\n"
     ]
    }
   ],
   "source": [
    "# 1. Installing packages / Importing libraries\n",
    "!pip install beautifulsoup4\n",
    "!pip install lxml\n",
    "!easy_install -m  lxml"
   ]
  },
  {
   "cell_type": "code",
   "execution_count": 2,
   "metadata": {},
   "outputs": [
    {
     "name": "stdout",
     "output_type": "stream",
     "text": [
      "Requirement already satisfied: geocoder in /home/jupyterlab/conda/envs/python/lib/python3.6/site-packages (1.38.1)\n",
      "Requirement already satisfied: click in /home/jupyterlab/conda/envs/python/lib/python3.6/site-packages (from geocoder) (7.1.2)\n",
      "Requirement already satisfied: requests in /home/jupyterlab/conda/envs/python/lib/python3.6/site-packages (from geocoder) (2.24.0)\n",
      "Requirement already satisfied: ratelim in /home/jupyterlab/conda/envs/python/lib/python3.6/site-packages (from geocoder) (0.1.6)\n",
      "Requirement already satisfied: six in /home/jupyterlab/conda/envs/python/lib/python3.6/site-packages (from geocoder) (1.15.0)\n",
      "Requirement already satisfied: future in /home/jupyterlab/conda/envs/python/lib/python3.6/site-packages (from geocoder) (0.18.2)\n",
      "Requirement already satisfied: certifi>=2017.4.17 in /home/jupyterlab/conda/envs/python/lib/python3.6/site-packages (from requests->geocoder) (2020.6.20)\n",
      "Requirement already satisfied: chardet<4,>=3.0.2 in /home/jupyterlab/conda/envs/python/lib/python3.6/site-packages (from requests->geocoder) (3.0.4)\n",
      "Requirement already satisfied: urllib3!=1.25.0,!=1.25.1,<1.26,>=1.21.1 in /home/jupyterlab/conda/envs/python/lib/python3.6/site-packages (from requests->geocoder) (1.25.9)\n",
      "Requirement already satisfied: idna<3,>=2.5 in /home/jupyterlab/conda/envs/python/lib/python3.6/site-packages (from requests->geocoder) (2.10)\n",
      "Requirement already satisfied: decorator in /home/jupyterlab/conda/envs/python/lib/python3.6/site-packages (from ratelim->geocoder) (4.4.2)\n"
     ]
    }
   ],
   "source": [
    "# Install python geocoder\n",
    "!pip install geocoder"
   ]
  },
  {
   "cell_type": "code",
   "execution_count": 3,
   "metadata": {},
   "outputs": [
    {
     "name": "stdout",
     "output_type": "stream",
     "text": [
      "Requirement already satisfied: xlrd in /home/jupyterlab/conda/envs/python/lib/python3.6/site-packages (1.2.0)\n"
     ]
    }
   ],
   "source": [
    "# For reading Excel file\n",
    "!pip install xlrd"
   ]
  },
  {
   "cell_type": "code",
   "execution_count": 4,
   "metadata": {},
   "outputs": [],
   "source": [
    "import json # library to handle JSON files\n",
    "\n",
    "import requests # library to handle requests\n",
    "from pandas.io.json import json_normalize # tranform JSON file into a pandas dataframe\n",
    "\n",
    "# Matplotlib and associated plotting modules\n",
    "import matplotlib.cm as cm\n",
    "import matplotlib.colors as colors\n",
    "import matplotlib.pyplot as plt\n",
    "\n",
    "# import k-means from clustering stage\n",
    "from sklearn.cluster import KMeans"
   ]
  },
  {
   "cell_type": "code",
   "execution_count": 5,
   "metadata": {},
   "outputs": [
    {
     "name": "stdout",
     "output_type": "stream",
     "text": [
      "Collecting package metadata (current_repodata.json): done\n",
      "Solving environment: done\n",
      "\n",
      "# All requested packages already installed.\n",
      "\n",
      "folium imported.\n"
     ]
    }
   ],
   "source": [
    "!conda install -c conda-forge folium=0.5.0 --yes # uncomment this line if you haven't completed the Foursquare API lab\n",
    "import folium # map rendering library\n",
    "\n",
    "print('folium imported.')"
   ]
  },
  {
   "cell_type": "code",
   "execution_count": 6,
   "metadata": {},
   "outputs": [
    {
     "name": "stdout",
     "output_type": "stream",
     "text": [
      "Collecting package metadata (current_repodata.json): done\n",
      "Solving environment: done\n",
      "\n",
      "# All requested packages already installed.\n",
      "\n",
      "geopy imported.\n"
     ]
    }
   ],
   "source": [
    "!conda install -c conda-forge geopy --yes # uncomment this line if you haven't completed the Foursquare API lab\n",
    "from geopy.geocoders import Nominatim # convert an address into latitude and longitude values\n",
    "\n",
    "print('geopy imported.')"
   ]
  },
  {
   "cell_type": "code",
   "execution_count": 7,
   "metadata": {},
   "outputs": [],
   "source": [
    "# Import Library\n",
    "import numpy as np \n",
    "import pandas as pd\n",
    "import requests\n",
    "import json\n",
    "from pandas.io.json import json_normalize\n",
    "from bs4 import BeautifulSoup\n",
    "import lxml\n",
    "import lxml.etree\n",
    "\n",
    "# import geocoder\n",
    "import geocoder"
   ]
  },
  {
   "cell_type": "code",
   "execution_count": 8,
   "metadata": {},
   "outputs": [],
   "source": [
    "# Defining Foursquare API credential\n",
    "# @hidden_cell\n",
    "\n",
    "CLIENT_ID = '0YEC5AQWOTDYWPW1CMA4ZGYILP4I3RZ2NBQIEDA0AVH1W1QQ' # your Foursquare ID\n",
    "CLIENT_SECRET = 'DNRKE0ZZGKS5Z4V0VZ5BWCLK5P3E3DW0VFDCUKOVMM1H5OG3' # your Foursquare Secret\n",
    "VERSION = '20200715' # Foursquare API version\n",
    "\n",
    "LIMIT = 100"
   ]
  },
  {
   "cell_type": "markdown",
   "metadata": {},
   "source": [
    "## Step 2: Get the geographical locations in Downtown Toronto regions"
   ]
  },
  {
   "cell_type": "code",
   "execution_count": 9,
   "metadata": {},
   "outputs": [],
   "source": [
    "# 2.1 Get all postal codes for Toronto\n",
    "url = 'https://en.wikipedia.org/wiki/List_of_postal_codes_of_Canada:_M'\n",
    "res = requests.get(url)\n",
    "soup = BeautifulSoup(res.content)\n",
    "raw_tables_contents = soup.table.find_all(\"tr\")"
   ]
  },
  {
   "cell_type": "code",
   "execution_count": 10,
   "metadata": {},
   "outputs": [],
   "source": [
    "# 2.2 transforming data from tables_contents into df\n",
    "columns_label = raw_tables_contents[0].get_text().replace(\" \", \"\")\n",
    "columns_label_list = list(filter(None, columns_label.split('\\n')))\n",
    "postal_codes_df = pd.DataFrame(columns=columns_label_list)"
   ]
  },
  {
   "cell_type": "code",
   "execution_count": 11,
   "metadata": {},
   "outputs": [],
   "source": [
    "# 2.3 assigning data into the df\n",
    "raw_data = raw_tables_contents[1:]\n",
    "for idx, row in enumerate(raw_data):\n",
    "   data_row = list(filter(None, row.get_text().split('\\n')))\n",
    "   postal_codes_df.loc[idx] = data_row"
   ]
  },
  {
   "cell_type": "code",
   "execution_count": 12,
   "metadata": {},
   "outputs": [
    {
     "data": {
      "text/html": [
       "<div>\n",
       "<style scoped>\n",
       "    .dataframe tbody tr th:only-of-type {\n",
       "        vertical-align: middle;\n",
       "    }\n",
       "\n",
       "    .dataframe tbody tr th {\n",
       "        vertical-align: top;\n",
       "    }\n",
       "\n",
       "    .dataframe thead th {\n",
       "        text-align: right;\n",
       "    }\n",
       "</style>\n",
       "<table border=\"1\" class=\"dataframe\">\n",
       "  <thead>\n",
       "    <tr style=\"text-align: right;\">\n",
       "      <th></th>\n",
       "      <th>PostCode</th>\n",
       "      <th>Borough</th>\n",
       "      <th>Neighborhood</th>\n",
       "    </tr>\n",
       "  </thead>\n",
       "  <tbody>\n",
       "    <tr>\n",
       "      <th>0</th>\n",
       "      <td>M3A</td>\n",
       "      <td>North York</td>\n",
       "      <td>Parkwoods</td>\n",
       "    </tr>\n",
       "    <tr>\n",
       "      <th>1</th>\n",
       "      <td>M4A</td>\n",
       "      <td>North York</td>\n",
       "      <td>Victoria Village</td>\n",
       "    </tr>\n",
       "    <tr>\n",
       "      <th>2</th>\n",
       "      <td>M5A</td>\n",
       "      <td>Downtown Toronto</td>\n",
       "      <td>Regent Park, Harbourfront</td>\n",
       "    </tr>\n",
       "    <tr>\n",
       "      <th>3</th>\n",
       "      <td>M6A</td>\n",
       "      <td>North York</td>\n",
       "      <td>Lawrence Manor, Lawrence Heights</td>\n",
       "    </tr>\n",
       "    <tr>\n",
       "      <th>4</th>\n",
       "      <td>M7A</td>\n",
       "      <td>Downtown Toronto</td>\n",
       "      <td>Queen's Park, Ontario Provincial Government</td>\n",
       "    </tr>\n",
       "    <tr>\n",
       "      <th>...</th>\n",
       "      <td>...</td>\n",
       "      <td>...</td>\n",
       "      <td>...</td>\n",
       "    </tr>\n",
       "    <tr>\n",
       "      <th>98</th>\n",
       "      <td>M8X</td>\n",
       "      <td>Etobicoke</td>\n",
       "      <td>The Kingsway, Montgomery Road, Old Mill North</td>\n",
       "    </tr>\n",
       "    <tr>\n",
       "      <th>99</th>\n",
       "      <td>M4Y</td>\n",
       "      <td>Downtown Toronto</td>\n",
       "      <td>Church and Wellesley</td>\n",
       "    </tr>\n",
       "    <tr>\n",
       "      <th>100</th>\n",
       "      <td>M7Y</td>\n",
       "      <td>East Toronto</td>\n",
       "      <td>Business reply mail Processing Centre, South C...</td>\n",
       "    </tr>\n",
       "    <tr>\n",
       "      <th>101</th>\n",
       "      <td>M8Y</td>\n",
       "      <td>Etobicoke</td>\n",
       "      <td>Old Mill South, King's Mill Park, Sunnylea, Hu...</td>\n",
       "    </tr>\n",
       "    <tr>\n",
       "      <th>102</th>\n",
       "      <td>M8Z</td>\n",
       "      <td>Etobicoke</td>\n",
       "      <td>Mimico NW, The Queensway West, South of Bloor,...</td>\n",
       "    </tr>\n",
       "  </tbody>\n",
       "</table>\n",
       "<p>103 rows × 3 columns</p>\n",
       "</div>"
      ],
      "text/plain": [
       "    PostCode           Borough  \\\n",
       "0        M3A        North York   \n",
       "1        M4A        North York   \n",
       "2        M5A  Downtown Toronto   \n",
       "3        M6A        North York   \n",
       "4        M7A  Downtown Toronto   \n",
       "..       ...               ...   \n",
       "98       M8X         Etobicoke   \n",
       "99       M4Y  Downtown Toronto   \n",
       "100      M7Y      East Toronto   \n",
       "101      M8Y         Etobicoke   \n",
       "102      M8Z         Etobicoke   \n",
       "\n",
       "                                          Neighborhood  \n",
       "0                                            Parkwoods  \n",
       "1                                     Victoria Village  \n",
       "2                            Regent Park, Harbourfront  \n",
       "3                     Lawrence Manor, Lawrence Heights  \n",
       "4          Queen's Park, Ontario Provincial Government  \n",
       "..                                                 ...  \n",
       "98       The Kingsway, Montgomery Road, Old Mill North  \n",
       "99                                Church and Wellesley  \n",
       "100  Business reply mail Processing Centre, South C...  \n",
       "101  Old Mill South, King's Mill Park, Sunnylea, Hu...  \n",
       "102  Mimico NW, The Queensway West, South of Bloor,...  \n",
       "\n",
       "[103 rows x 3 columns]"
      ]
     },
     "execution_count": 12,
     "metadata": {},
     "output_type": "execute_result"
    }
   ],
   "source": [
    "# 2.4 Cleaning the df\n",
    "postal_codes_df = postal_codes_df[postal_codes_df.Borough != 'Not assigned']\n",
    "postal_codes_df.reset_index(drop=True, inplace=True)\n",
    "postal_codes_df"
   ]
  },
  {
   "cell_type": "code",
   "execution_count": 13,
   "metadata": {},
   "outputs": [
    {
     "data": {
      "text/html": [
       "<div>\n",
       "<style scoped>\n",
       "    .dataframe tbody tr th:only-of-type {\n",
       "        vertical-align: middle;\n",
       "    }\n",
       "\n",
       "    .dataframe tbody tr th {\n",
       "        vertical-align: top;\n",
       "    }\n",
       "\n",
       "    .dataframe thead th {\n",
       "        text-align: right;\n",
       "    }\n",
       "</style>\n",
       "<table border=\"1\" class=\"dataframe\">\n",
       "  <thead>\n",
       "    <tr style=\"text-align: right;\">\n",
       "      <th></th>\n",
       "      <th>PostalCode</th>\n",
       "      <th>Latitude</th>\n",
       "      <th>Longitude</th>\n",
       "    </tr>\n",
       "  </thead>\n",
       "  <tbody>\n",
       "    <tr>\n",
       "      <th>1</th>\n",
       "      <td>M1B</td>\n",
       "      <td>43.8066863</td>\n",
       "      <td>-79.1943534</td>\n",
       "    </tr>\n",
       "    <tr>\n",
       "      <th>2</th>\n",
       "      <td>M1C</td>\n",
       "      <td>43.7845351</td>\n",
       "      <td>-79.1604971</td>\n",
       "    </tr>\n",
       "    <tr>\n",
       "      <th>3</th>\n",
       "      <td>M1E</td>\n",
       "      <td>43.7635726</td>\n",
       "      <td>-79.1887115</td>\n",
       "    </tr>\n",
       "    <tr>\n",
       "      <th>4</th>\n",
       "      <td>M1G</td>\n",
       "      <td>43.7709921</td>\n",
       "      <td>-79.2169174</td>\n",
       "    </tr>\n",
       "    <tr>\n",
       "      <th>5</th>\n",
       "      <td>M1H</td>\n",
       "      <td>43.773136</td>\n",
       "      <td>-79.2394761</td>\n",
       "    </tr>\n",
       "    <tr>\n",
       "      <th>...</th>\n",
       "      <td>...</td>\n",
       "      <td>...</td>\n",
       "      <td>...</td>\n",
       "    </tr>\n",
       "    <tr>\n",
       "      <th>99</th>\n",
       "      <td>M9N</td>\n",
       "      <td>43.706876</td>\n",
       "      <td>-79.5181884</td>\n",
       "    </tr>\n",
       "    <tr>\n",
       "      <th>100</th>\n",
       "      <td>M9P</td>\n",
       "      <td>43.696319</td>\n",
       "      <td>-79.5322424</td>\n",
       "    </tr>\n",
       "    <tr>\n",
       "      <th>101</th>\n",
       "      <td>M9R</td>\n",
       "      <td>43.6889054</td>\n",
       "      <td>-79.5547244</td>\n",
       "    </tr>\n",
       "    <tr>\n",
       "      <th>102</th>\n",
       "      <td>M9V</td>\n",
       "      <td>43.7394164</td>\n",
       "      <td>-79.5884369</td>\n",
       "    </tr>\n",
       "    <tr>\n",
       "      <th>103</th>\n",
       "      <td>M9W</td>\n",
       "      <td>43.7067483</td>\n",
       "      <td>-79.5940544</td>\n",
       "    </tr>\n",
       "  </tbody>\n",
       "</table>\n",
       "<p>103 rows × 3 columns</p>\n",
       "</div>"
      ],
      "text/plain": [
       "    PostalCode    Latitude    Longitude\n",
       "1          M1B  43.8066863  -79.1943534\n",
       "2          M1C  43.7845351  -79.1604971\n",
       "3          M1E  43.7635726  -79.1887115\n",
       "4          M1G  43.7709921  -79.2169174\n",
       "5          M1H   43.773136  -79.2394761\n",
       "..         ...         ...          ...\n",
       "99         M9N   43.706876  -79.5181884\n",
       "100        M9P   43.696319  -79.5322424\n",
       "101        M9R  43.6889054  -79.5547244\n",
       "102        M9V  43.7394164  -79.5884369\n",
       "103        M9W  43.7067483  -79.5940544\n",
       "\n",
       "[103 rows x 3 columns]"
      ]
     },
     "execution_count": 13,
     "metadata": {},
     "output_type": "execute_result"
    }
   ],
   "source": [
    "# 2.5 Read the csv file to obtain the postal code to latitde/longitude mapping\n",
    "geo_partial_data = pd.DataFrame()\n",
    "geo_partial_data = pd.read_csv(\"Geospatial_data.csv\", delimiter=\",\", names=['PostalCode', 'Latitude', 'Longitude'])\n",
    "geo_partial_data = geo_partial_data.iloc[1:]\n",
    "geo_partial_data"
   ]
  },
  {
   "cell_type": "code",
   "execution_count": 14,
   "metadata": {},
   "outputs": [
    {
     "data": {
      "text/html": [
       "<div>\n",
       "<style scoped>\n",
       "    .dataframe tbody tr th:only-of-type {\n",
       "        vertical-align: middle;\n",
       "    }\n",
       "\n",
       "    .dataframe tbody tr th {\n",
       "        vertical-align: top;\n",
       "    }\n",
       "\n",
       "    .dataframe thead th {\n",
       "        text-align: right;\n",
       "    }\n",
       "</style>\n",
       "<table border=\"1\" class=\"dataframe\">\n",
       "  <thead>\n",
       "    <tr style=\"text-align: right;\">\n",
       "      <th></th>\n",
       "      <th>Borough</th>\n",
       "      <th>Neighborhood</th>\n",
       "      <th>Latitude</th>\n",
       "      <th>Longitude</th>\n",
       "    </tr>\n",
       "  </thead>\n",
       "  <tbody>\n",
       "    <tr>\n",
       "      <th>0</th>\n",
       "      <td>Downtown Toronto</td>\n",
       "      <td>Regent Park, Harbourfront</td>\n",
       "      <td>43.654260</td>\n",
       "      <td>-79.360636</td>\n",
       "    </tr>\n",
       "    <tr>\n",
       "      <th>1</th>\n",
       "      <td>Downtown Toronto</td>\n",
       "      <td>Queen's Park, Ontario Provincial Government</td>\n",
       "      <td>43.662301</td>\n",
       "      <td>-79.389494</td>\n",
       "    </tr>\n",
       "    <tr>\n",
       "      <th>2</th>\n",
       "      <td>Downtown Toronto</td>\n",
       "      <td>Garden District, Ryerson</td>\n",
       "      <td>43.657162</td>\n",
       "      <td>-79.378937</td>\n",
       "    </tr>\n",
       "    <tr>\n",
       "      <th>3</th>\n",
       "      <td>Downtown Toronto</td>\n",
       "      <td>St. James Town</td>\n",
       "      <td>43.651494</td>\n",
       "      <td>-79.375418</td>\n",
       "    </tr>\n",
       "    <tr>\n",
       "      <th>4</th>\n",
       "      <td>Downtown Toronto</td>\n",
       "      <td>Berczy Park</td>\n",
       "      <td>43.644771</td>\n",
       "      <td>-79.373306</td>\n",
       "    </tr>\n",
       "  </tbody>\n",
       "</table>\n",
       "</div>"
      ],
      "text/plain": [
       "            Borough                                 Neighborhood   Latitude  \\\n",
       "0  Downtown Toronto                    Regent Park, Harbourfront  43.654260   \n",
       "1  Downtown Toronto  Queen's Park, Ontario Provincial Government  43.662301   \n",
       "2  Downtown Toronto                     Garden District, Ryerson  43.657162   \n",
       "3  Downtown Toronto                               St. James Town  43.651494   \n",
       "4  Downtown Toronto                                  Berczy Park  43.644771   \n",
       "\n",
       "   Longitude  \n",
       "0 -79.360636  \n",
       "1 -79.389494  \n",
       "2 -79.378937  \n",
       "3 -79.375418  \n",
       "4 -79.373306  "
      ]
     },
     "execution_count": 14,
     "metadata": {},
     "output_type": "execute_result"
    }
   ],
   "source": [
    "# 2.6 Join two dataframes to get the geographical locations according to Toronto postal code\n",
    "# pc_geo_df = postal_codes_df.join(geo_partial_data, how='inner', on='PostalCode')\n",
    "pc_geo_df = postal_codes_df.set_index('PostCode').join(geo_partial_data.set_index('PostalCode'), how='inner')\n",
    "# df.set_index('key').join(other.set_index('key'))\n",
    "# pc_geo_df = pd.merge(postal_codes_df, geo_partial_data, how='inner', left_on='PostalCode', right_on='PostCode')\n",
    "pc_geo_df.Latitude = pc_geo_df.Latitude.astype(float)\n",
    "pc_geo_df.Longitude = pc_geo_df.Longitude.astype(float)\n",
    "\n",
    "toronto_df = pc_geo_df[pc_geo_df['Borough'].str.upper().str.contains('DOWNTOWN TORONTO')]\n",
    "toronto_df.reset_index(drop=True, inplace=True)\n",
    "toronto_df.head()\n"
   ]
  },
  {
   "cell_type": "markdown",
   "metadata": {},
   "source": [
    "## 3. Get the grographical locations in Fort Myers locations\n",
    "(Source: https://public.opendatasoft.com/)"
   ]
  },
  {
   "cell_type": "code",
   "execution_count": 15,
   "metadata": {},
   "outputs": [
    {
     "data": {
      "text/html": [
       "<div>\n",
       "<style scoped>\n",
       "    .dataframe tbody tr th:only-of-type {\n",
       "        vertical-align: middle;\n",
       "    }\n",
       "\n",
       "    .dataframe tbody tr th {\n",
       "        vertical-align: top;\n",
       "    }\n",
       "\n",
       "    .dataframe thead th {\n",
       "        text-align: right;\n",
       "    }\n",
       "</style>\n",
       "<table border=\"1\" class=\"dataframe\">\n",
       "  <thead>\n",
       "    <tr style=\"text-align: right;\">\n",
       "      <th></th>\n",
       "      <th>Zip</th>\n",
       "      <th>Latitude</th>\n",
       "      <th>Longitude</th>\n",
       "    </tr>\n",
       "  </thead>\n",
       "  <tbody>\n",
       "    <tr>\n",
       "      <th>0</th>\n",
       "      <td>33994</td>\n",
       "      <td>26.552895</td>\n",
       "      <td>-81.94861</td>\n",
       "    </tr>\n",
       "    <tr>\n",
       "      <th>1</th>\n",
       "      <td>33912</td>\n",
       "      <td>26.501582</td>\n",
       "      <td>-81.82841</td>\n",
       "    </tr>\n",
       "    <tr>\n",
       "      <th>2</th>\n",
       "      <td>33907</td>\n",
       "      <td>26.566053</td>\n",
       "      <td>-81.87009</td>\n",
       "    </tr>\n",
       "    <tr>\n",
       "      <th>3</th>\n",
       "      <td>33905</td>\n",
       "      <td>26.680407</td>\n",
       "      <td>-81.74812</td>\n",
       "    </tr>\n",
       "    <tr>\n",
       "      <th>4</th>\n",
       "      <td>33908</td>\n",
       "      <td>26.502677</td>\n",
       "      <td>-81.93052</td>\n",
       "    </tr>\n",
       "  </tbody>\n",
       "</table>\n",
       "</div>"
      ],
      "text/plain": [
       "     Zip   Latitude  Longitude\n",
       "0  33994  26.552895  -81.94861\n",
       "1  33912  26.501582  -81.82841\n",
       "2  33907  26.566053  -81.87009\n",
       "3  33905  26.680407  -81.74812\n",
       "4  33908  26.502677  -81.93052"
      ]
     },
     "execution_count": 15,
     "metadata": {},
     "output_type": "execute_result"
    }
   ],
   "source": [
    "# 3.1 Fort Myers's latitudes and longitudes are retrieved from external sources: https://public.opendatasoft.com/\n",
    "fort_myers_df = pd.read_csv(\"us-zip-code-latitude-and-longitude.csv\", delimiter=\";\")\n",
    "fort_myers_df.drop(['City', 'State', 'Timezone', 'Daylight savings time flag', 'geopoint'], axis=1, inplace=True)\n",
    "fort_myers_df.head()"
   ]
  },
  {
   "cell_type": "markdown",
   "metadata": {},
   "source": [
    "## 4.1 Create the map of Downtown Toronto with the locations from #2\n"
   ]
  },
  {
   "cell_type": "code",
   "execution_count": 31,
   "metadata": {},
   "outputs": [
    {
     "name": "stdout",
     "output_type": "stream",
     "text": [
      "The geograpical coordinate of Toronto are 43.6534817, -79.3839347.\n"
     ]
    },
    {
     "data": {
      "text/html": [
       "<div style=\"width:100%;\"><div style=\"position:relative;width:100%;height:0;padding-bottom:60%;\"><span style=\"color:#565656\">Make this Notebook Trusted to load map: File -> Trust Notebook</span><iframe src=\"about:blank\" style=\"position:absolute;width:100%;height:100%;left:0;top:0;border:none !important;\" data-html=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 onload=\"this.contentDocument.open();this.contentDocument.write(atob(this.getAttribute('data-html')));this.contentDocument.close();\" allowfullscreen webkitallowfullscreen mozallowfullscreen></iframe></div></div>"
      ],
      "text/plain": [
       "<folium.folium.Map at 0x7f2ffd119da0>"
      ]
     },
     "execution_count": 31,
     "metadata": {},
     "output_type": "execute_result"
    }
   ],
   "source": [
    "# 4.1 Create map of Downtown Toronto\n",
    "address = 'Toronto'\n",
    "geolocator = Nominatim(user_agent=\"tor_explorer\")\n",
    "location = geolocator.geocode(address)\n",
    "tor_latitude = location.latitude\n",
    "tor_longitude = location.longitude\n",
    "print('The geograpical coordinate of Toronto are {}, {}.'.format(tor_latitude, tor_longitude))\n",
    "\n",
    "# create map of Downtown Toronto\n",
    "map_toronto = folium.Map(width=800, height=700, location=[tor_latitude, tor_longitude], zoom_start=13)\n",
    "\n",
    "# add markers to map\n",
    "for lat, lng, borough, neighborhood in zip(toronto_df['Latitude'], toronto_df['Longitude'], toronto_df['Borough'], toronto_df['Neighborhood']):\n",
    "    label = '{}, {}'.format(neighborhood, borough)\n",
    "    label = folium.Popup(label, parse_html=True)\n",
    "    folium.CircleMarker(\n",
    "        [lat, lng],\n",
    "        radius=5,\n",
    "        popup=label,\n",
    "        color='blue',\n",
    "        fill=True,\n",
    "        fill_color='#3186cc',\n",
    "        fill_opacity=0.7,\n",
    "        parse_html=False).add_to(map_toronto)\n",
    "    \n",
    "map_toronto"
   ]
  },
  {
   "cell_type": "markdown",
   "metadata": {},
   "source": [
    "## 4.2 Create the map of Fort Myers with the locations from #3\n"
   ]
  },
  {
   "cell_type": "code",
   "execution_count": 50,
   "metadata": {},
   "outputs": [
    {
     "name": "stdout",
     "output_type": "stream",
     "text": [
      "The geograpical coordinate of Fort Myers are 43.6534817, -79.3839347.\n"
     ]
    },
    {
     "data": {
      "text/html": [
       "<div style=\"width:100%;\"><div style=\"position:relative;width:100%;height:0;padding-bottom:60%;\"><span style=\"color:#565656\">Make this Notebook Trusted to load map: File -> Trust Notebook</span><iframe src=\"about:blank\" style=\"position:absolute;width:100%;height:100%;left:0;top:0;border:none !important;\" data-html=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 onload=\"this.contentDocument.open();this.contentDocument.write(atob(this.getAttribute('data-html')));this.contentDocument.close();\" allowfullscreen webkitallowfullscreen mozallowfullscreen></iframe></div></div>"
      ],
      "text/plain": [
       "<folium.folium.Map at 0x7f2ffd073b38>"
      ]
     },
     "execution_count": 50,
     "metadata": {},
     "output_type": "execute_result"
    }
   ],
   "source": [
    "# 4.1 Create map of Fort Myers\n",
    "address = 'Fort Myers'\n",
    "geolocator = Nominatim(user_agent=\"fm_explorer\")\n",
    "location = geolocator.geocode(address)\n",
    "fm_latitude = location.latitude\n",
    "fm_longitude = location.longitude\n",
    "print('The geograpical coordinate of Fort Myers are {}, {}.'.format(tor_latitude, tor_longitude))\n",
    "\n",
    "# create map of Fort Myers\n",
    "map_fm = folium.Map(width=800, height=700, location=[fm_latitude, fm_longitude], zoom_start=11)\n",
    "\n",
    "# add markers to map\n",
    "for lat, lng, borough, neighborhood in zip(fort_myers_df['Latitude'], fort_myers_df['Longitude'], fort_myers_df['Zip'], fort_myers_df['Zip']):\n",
    "    label = '{}, {}'.format(neighborhood, borough)\n",
    "    label = folium.Popup(label, parse_html=True)\n",
    "    folium.CircleMarker(\n",
    "        [lat, lng],\n",
    "        radius=5,\n",
    "        popup=label,\n",
    "        color='blue',\n",
    "        fill=True,\n",
    "        fill_color='#3186cc',\n",
    "        fill_opacity=0.7,\n",
    "        parse_html=False).add_to(map_fm)\n",
    "    \n",
    "map_fm"
   ]
  },
  {
   "cell_type": "markdown",
   "metadata": {},
   "source": [
    "## 5. Search all available venues\n",
    "### Create a function to iteratively search the nearby venue based on latitudes and longitudes"
   ]
  },
  {
   "cell_type": "code",
   "execution_count": 33,
   "metadata": {},
   "outputs": [],
   "source": [
    "\n",
    "def searchVenues(names, latitudes, longitudes, radius=500):\n",
    "    \n",
    "    venues_list=[]\n",
    "    for name, lat, lng in zip(names, latitudes, longitudes):\n",
    "        print(\"Processing: \", name)\n",
    "            \n",
    "        # create the API request URL\n",
    "        url = 'https://api.foursquare.com/v2/venues/search?&client_id={}&client_secret={}&v={}&ll={},{}&radius={}&limit={}'.format(\n",
    "            CLIENT_ID, \n",
    "            CLIENT_SECRET, \n",
    "            VERSION, \n",
    "            lat, \n",
    "            lng, \n",
    "            radius, \n",
    "            LIMIT)\n",
    "            \n",
    "        # make the GET request\n",
    "        results = requests.get(url).json()[\"response\"]['venues']\n",
    "        \n",
    "        for v in results:\n",
    "            # for v in results:\n",
    "            if(len(v['categories']) == 1):\n",
    "                venues_list.append([(\n",
    "                    v['name'], \n",
    "                    v['location']['lat'], \n",
    "                    v['location']['lng'],  \n",
    "                    v['categories'][0]['name'])])\n",
    "            else:\n",
    "                venues_list.append([(\n",
    "                    v['name'], \n",
    "                    v['location']['lat'], \n",
    "                    v['location']['lng'],  \n",
    "                    'NA')])\n",
    "        \n",
    "    nearby_venues = pd.DataFrame([item for venue_list in venues_list for item in venue_list])\n",
    "    nearby_venues.columns = [\n",
    "                  'Venue', \n",
    "                  'Venue Latitude', \n",
    "                  'Venue Longitude', \n",
    "                  'Venue Category']\n",
    "    \n",
    "    return(nearby_venues)"
   ]
  },
  {
   "cell_type": "code",
   "execution_count": 34,
   "metadata": {},
   "outputs": [
    {
     "name": "stdout",
     "output_type": "stream",
     "text": [
      "Processing:  Regent Park, Harbourfront\n",
      "Processing:  Queen's Park, Ontario Provincial Government\n",
      "Processing:  Garden District, Ryerson\n",
      "Processing:  St. James Town\n",
      "Processing:  Berczy Park\n",
      "Processing:  Central Bay Street\n",
      "Processing:  Christie\n",
      "Processing:  Richmond, Adelaide, King\n",
      "Processing:  Harbourfront East, Union Station, Toronto Islands\n",
      "Processing:  Toronto Dominion Centre, Design Exchange\n",
      "Processing:  Commerce Court, Victoria Hotel\n",
      "Processing:  University of Toronto, Harbord\n",
      "Processing:  Kensington Market, Chinatown, Grange Park\n",
      "Processing:  CN Tower, King and Spadina, Railway Lands, Harbourfront West, Bathurst Quay, South Niagara, Island airport\n",
      "Processing:  Rosedale\n",
      "Processing:  Stn A PO Boxes\n",
      "Processing:  St. James Town, Cabbagetown\n",
      "Processing:  First Canadian Place, Underground city\n",
      "Processing:  Church and Wellesley\n"
     ]
    },
    {
     "data": {
      "text/plain": [
       "(1775, 4)"
      ]
     },
     "execution_count": 34,
     "metadata": {},
     "output_type": "execute_result"
    }
   ],
   "source": [
    "toronto_search_venue = searchVenues(names=toronto_df['Neighborhood'], latitudes=toronto_df['Latitude'], longitudes=toronto_df['Longitude'])\n",
    "toronto_search_venue.shape"
   ]
  },
  {
   "cell_type": "markdown",
   "metadata": {},
   "source": [
    "## 5.2 Search the venues in Fort Myers"
   ]
  },
  {
   "cell_type": "code",
   "execution_count": 35,
   "metadata": {},
   "outputs": [
    {
     "name": "stdout",
     "output_type": "stream",
     "text": [
      "Processing:  33994\n",
      "Processing:  33912\n",
      "Processing:  33907\n",
      "Processing:  33905\n",
      "Processing:  33908\n",
      "Processing:  33917\n",
      "Processing:  33931\n",
      "Processing:  33913\n",
      "Processing:  33911\n",
      "Processing:  33901\n",
      "Processing:  33961\n",
      "Processing:  33903\n",
      "Processing:  33965\n",
      "Processing:  33919\n",
      "Processing:  33932\n",
      "Processing:  33916\n",
      "Processing:  33902\n",
      "Processing:  33906\n",
      "Processing:  33918\n"
     ]
    },
    {
     "data": {
      "text/plain": [
       "(1847, 4)"
      ]
     },
     "execution_count": 35,
     "metadata": {},
     "output_type": "execute_result"
    }
   ],
   "source": [
    "fm_search_venue = searchVenues(names=fort_myers_df['Zip'],\n",
    "                               latitudes=fort_myers_df['Latitude'],\n",
    "                               longitudes=fort_myers_df['Longitude']\n",
    "                              )\n",
    "\n",
    "fm_search_venue.shape"
   ]
  },
  {
   "cell_type": "markdown",
   "metadata": {},
   "source": [
    "## 6. Get the ranking for every category type\n",
    "#### An inclusive list (all_categories_final.xlsx) has been created with 5 category types:\n",
    "    Type 1: Health Care\n",
    "    Type 2: Transportation and Travel\n",
    "    Type 3: Government and Public Services\n",
    "    Type 4: Amenities\n",
    "    Type 5: Art, Culture and Community\n",
    "    \n",
    "    Ranking for the aforementioned 5 types is done based on the methodology suggested in Maclean's \"Best communities in Canada 2019\" study, with slight modifications. The ranking is as follows:\n",
    "    Type 1: 20 points\n",
    "    Type 2: 10 points\n",
    "    Type 3: 2.5 points\n",
    "    Type 4: 2.5 points\n",
    "    Type 5: 5 points\n",
    "    \n",
    "    The inclusive list contains 2 columns: CategoryName and CategoryType: CategoryName is drawn based on the venue category in Foursquare API; CategoryType is the affiliated type of the cateogry based on the aforementioned list."
   ]
  },
  {
   "cell_type": "markdown",
   "metadata": {},
   "source": [
    "## 6.1 Get the ranking score for both cities"
   ]
  },
  {
   "cell_type": "code",
   "execution_count": 37,
   "metadata": {},
   "outputs": [],
   "source": [
    "# Read the xlsx file\n",
    "all_cat_df = pd.read_excel('all_categories_final.xlsx')\n",
    "\n",
    "# Data cleansing for gibberish text in imported xlsx file\n",
    "# CafÃ© -> Café\n",
    "all_cat_df['Venue Category'] = all_cat_df['Venue Category'].str.replace('CafÃ©', 'Café')"
   ]
  },
  {
   "cell_type": "code",
   "execution_count": 38,
   "metadata": {},
   "outputs": [],
   "source": [
    "# For Toronto\n",
    "toronto_types_ranking = []\n",
    "toronto_types_ranking.append(len(pd.merge(toronto_search_venue, all_cat_df[all_cat_df['Venue Category Type']==1], how='inner', on='Venue Category')) * 20)\n",
    "toronto_types_ranking.append(len(pd.merge(toronto_search_venue, all_cat_df[all_cat_df['Venue Category Type']==2], how='inner', on='Venue Category')) * 10)\n",
    "toronto_types_ranking.append(len(pd.merge(toronto_search_venue, all_cat_df[all_cat_df['Venue Category Type']==3], how='inner', on='Venue Category')) * 2.5)\n",
    "toronto_types_ranking.append(len(pd.merge(toronto_search_venue, all_cat_df[all_cat_df['Venue Category Type']==4], how='inner', on='Venue Category')) * 2.5)\n",
    "toronto_types_ranking.append(len(pd.merge(toronto_search_venue, all_cat_df[all_cat_df['Venue Category Type']==5], how='inner', on='Venue Category')) * 5)"
   ]
  },
  {
   "cell_type": "code",
   "execution_count": 39,
   "metadata": {},
   "outputs": [
    {
     "data": {
      "text/plain": [
       "[1420, 1210, 322.5, 1980.0, 810]"
      ]
     },
     "execution_count": 39,
     "metadata": {},
     "output_type": "execute_result"
    }
   ],
   "source": [
    "toronto_types_ranking"
   ]
  },
  {
   "cell_type": "code",
   "execution_count": 40,
   "metadata": {},
   "outputs": [],
   "source": [
    "# For Fort Myers\n",
    "fm_types_ranking = []\n",
    "fm_types_ranking.append(len(pd.merge(fm_search_venue, all_cat_df[all_cat_df['Venue Category Type']==1], how='inner', on='Venue Category')) * 20)\n",
    "fm_types_ranking.append(len(pd.merge(fm_search_venue, all_cat_df[all_cat_df['Venue Category Type']==2], how='inner', on='Venue Category')) * 10)\n",
    "fm_types_ranking.append(len(pd.merge(fm_search_venue, all_cat_df[all_cat_df['Venue Category Type']==3], how='inner', on='Venue Category')) * 2.5)\n",
    "fm_types_ranking.append(len(pd.merge(fm_search_venue, all_cat_df[all_cat_df['Venue Category Type']==4], how='inner', on='Venue Category')) * 2.5)\n",
    "fm_types_ranking.append(len(pd.merge(fm_search_venue, all_cat_df[all_cat_df['Venue Category Type']==5], how='inner', on='Venue Category')) * 5)"
   ]
  },
  {
   "cell_type": "code",
   "execution_count": 41,
   "metadata": {},
   "outputs": [
    {
     "data": {
      "text/plain": [
       "[2120, 560, 342.5, 2185.0, 1610]"
      ]
     },
     "execution_count": 41,
     "metadata": {},
     "output_type": "execute_result"
    }
   ],
   "source": [
    "fm_types_ranking"
   ]
  },
  {
   "cell_type": "markdown",
   "metadata": {},
   "source": [
    "## 6.2 Plot the bar plot for both cities"
   ]
  },
  {
   "cell_type": "code",
   "execution_count": 42,
   "metadata": {},
   "outputs": [],
   "source": [
    "# Define the function for ploting bar plot\n",
    "\n",
    "def plotBar(group1data, group2data, group1label, group2label, xticketlabels):\n",
    "\n",
    "    n_groups = 5\n",
    "\n",
    "    fig, ax = plt.subplots()\n",
    "    index = np.arange(n_groups)\n",
    "    bar_width = 0.35\n",
    "    opacity = 0.8\n",
    "\n",
    "    group1 = plt.bar(index, group1data, bar_width,\n",
    "                    alpha=opacity,\n",
    "                    color='b',\n",
    "                    label=group1label)\n",
    "    group2 = plt.bar(index + bar_width, group2data, bar_width,\n",
    "                    alpha=opacity,\n",
    "                    color='g',\n",
    "                    label=group2label)\n",
    "\n",
    "    plt.xlabel('Venue Category Type')\n",
    "    plt.ylabel('Ranking')\n",
    "    plt.title('Ranking by Venue Category Type')\n",
    "    plt.xticks(index + (bar_width / 2), xticklabels)\n",
    "    ax.set_xticklabels(xticklabels, rotation=90, fontsize=10)\n",
    "    plt.legend()\n",
    "    plt.figure(figsize=(20, 3))\n",
    "    plt.tight_layout()\n",
    "    plt.show()"
   ]
  },
  {
   "cell_type": "code",
   "execution_count": 46,
   "metadata": {},
   "outputs": [
    {
     "data": {
      "image/png": "[encoded data removed]",
      "text/plain": [
       "<Figure size 432x288 with 1 Axes>"
      ]
     },
     "metadata": {
      "needs_background": "light"
     },
     "output_type": "display_data"
    },
    {
     "data": {
      "text/plain": [
       "<Figure size 1440x216 with 0 Axes>"
      ]
     },
     "metadata": {},
     "output_type": "display_data"
    }
   ],
   "source": [
    "# Comparing the result of ranking for the 2 cities\n",
    "xticklabels=['Type 1: \\n Health Care', 'Type 2: \\n Transportation and Travel', \n",
    "                    'Type 3: \\n Government and Public Services', 'Type 4: \\n Amenities',\n",
    "                    'Type 5: \\n Art, Culture and Community']\n",
    "\n",
    "plotBar(toronto_types_ranking, fm_types_ranking, 'Toronto', 'Fort Myers', xticklabels)\n",
    "\n",
    "print()\n",
    "print()"
   ]
  },
  {
   "cell_type": "markdown",
   "metadata": {},
   "source": [
    "Result of the first analysis is showing in the aforementioned bar chart. Both cities are performing better to their counterparts in some areas. \n",
    "To summarize the finding, Fort Myers is winning in Health Care and Art, Culture and Community, while Toronto is surpressing Fort Myers in Transportation and Travel. Both cities are comparable in Governemnt and Public Services and Amenties categories.\n",
    "\n",
    "Therefore, we can conclude that Fort Myers overtook Toronto in the contest of being the best retirement community in the North America region, though only winning by a nose. \n",
    "Please note that the result of the above analysis does not necessary mean that Toronto is bad in any aspects, given that Fort Myers is only winning in a narrow margin, and Toronto even ties or wins in some categories."
   ]
  },
  {
   "cell_type": "markdown",
   "metadata": {},
   "source": [
    "### Remarks: Getting the full category list from the Foursquare API"
   ]
  },
  {
   "cell_type": "code",
   "execution_count": null,
   "metadata": {},
   "outputs": [],
   "source": [
    "categoryrequest = ''\n",
    "cat_list = []\n",
    "    \n",
    "categoryUrl = 'https://api.foursquare.com/v2/venues/categories?&client_id={}&client_secret={}&v={}'.format(\n",
    "        CLIENT_ID, \n",
    "        CLIENT_SECRET,\n",
    "        VERSION)\n",
    "\n",
    "categoryResults = requests.get(categoryUrl).json()['response']['categories']\n",
    "\n",
    "def GetCategory(category):\n",
    "    for c in category:\n",
    "        cat_list.append(c['name'])\n",
    "        for cn in c['categories']:\n",
    "            cat_list.append(cn['name'])\n",
    "            if(len(cn['categories']) > 0):\n",
    "                GetCategory(cn['categories'])\n",
    "    return cat_list\n",
    "\n",
    "GetCategory(categoryResults)\n",
    "\n",
    "all_categories = pd.DataFrame(cat_list)\n",
    "all_categories.columns = ['Category']\n",
    "# all_categories.to_csv('all_categories.csv', sep=',')\n"
   ]
  },
  {
   "cell_type": "markdown",
   "metadata": {},
   "source": [
    "This is the end of the notebook."
   ]
  }
 ],
 "metadata": {
  "kernelspec": {
   "display_name": "Python",
   "language": "python",
   "name": "conda-env-python-py"
  },
  "language_info": {
   "codemirror_mode": {
    "name": "ipython",
    "version": 3
   },
   "file_extension": ".py",
   "mimetype": "text/x-python",
   "name": "python",
   "nbconvert_exporter": "python",
   "pygments_lexer": "ipython3",
   "version": "3.6.10"
  }
 },
 "nbformat": 4,
 "nbformat_minor": 4
}
