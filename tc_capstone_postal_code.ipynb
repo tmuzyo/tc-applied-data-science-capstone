{
 "cells": [
  {
   "cell_type": "markdown",
   "metadata": {},
   "source": [
    "<div style=\"text-align: center;\">\n",
    "    <h1>TC's Capstone Project for Applied Data Science</h1>\n",
    "    <h2>This notebook is being used for my Coursera's Applied Data Science Capstone Project</h2>\n",
    "    <span><img src=\"https://upload.wikimedia.org/wikipedia/en/a/aa/Bart_Simpson_200px.png\" alt=\"Bart Simpsons\" /></span>\n",
    "</div>"
   ]
  },
  {
   "cell_type": "code",
   "execution_count": 19,
   "metadata": {},
   "outputs": [
    {
     "name": "stdout",
     "output_type": "stream",
     "text": [
      "Requirement already satisfied: beautifulsoup4 in /home/jupyterlab/conda/envs/python/lib/python3.6/site-packages (4.9.1)\n",
      "Requirement already satisfied: soupsieve>1.2 in /home/jupyterlab/conda/envs/python/lib/python3.6/site-packages (from beautifulsoup4) (2.0.1)\n",
      "Requirement already satisfied: lxml in /home/jupyterlab/conda/envs/python/lib/python3.6/site-packages (4.5.1)\n",
      "WARNING: The easy_install command is deprecated and will be removed in a future version.\n",
      "Searching for lxml\n",
      "Best match: lxml 4.5.1\n",
      "\n",
      "Using /home/jupyterlab/conda/envs/python/lib/python3.6/site-packages\n",
      "Because this distribution was installed --multi-version, before you can\n",
      "import modules from this package in an application, you will need to\n",
      "'import pkg_resources' and then use a 'require()' call similar to one of\n",
      "these examples, in order to select the desired version:\n",
      "\n",
      "    pkg_resources.require(\"lxml\")  # latest installed version\n",
      "    pkg_resources.require(\"lxml==4.5.1\")  # this exact version\n",
      "    pkg_resources.require(\"lxml>=4.5.1\")  # this version or higher\n",
      "\n",
      "Processing dependencies for lxml\n",
      "Finished processing dependencies for lxml\n"
     ]
    }
   ],
   "source": [
    "# 0. Installing Beautiful Soup 4 for scraping html/xml doc\n",
    "!pip install beautifulsoup4\n",
    "!pip install lxml\n",
    "!easy_install -m  lxml\n"
   ]
  },
  {
   "cell_type": "code",
   "execution_count": 20,
   "metadata": {},
   "outputs": [],
   "source": [
    "# 1. Import Library\n",
    "import numpy as np \n",
    "import pandas as pd\n",
    "import requests\n",
    "import json\n",
    "from pandas.io.json import json_normalize\n",
    "from bs4 import BeautifulSoup\n",
    "import lxml\n",
    "import lxml.etree"
   ]
  },
  {
   "cell_type": "markdown",
   "metadata": {},
   "source": [
    "### Remarks:\n",
    "1. Beautiful Soup library is used to parse the HTML page into BeautifulSoup Object object for result manipulation\n",
    "2. Default parser has been used in this case"
   ]
  },
  {
   "cell_type": "code",
   "execution_count": 45,
   "metadata": {},
   "outputs": [],
   "source": [
    "# 2. Get the page on wiki\n",
    "url = 'https://en.wikipedia.org/wiki/List_of_postal_codes_of_Canada:_M'\n",
    "res = requests.get(url)\n",
    "soup = BeautifulSoup(res.content)\n",
    "raw_tables_contents = soup.table.find_all(\"tr\")"
   ]
  },
  {
   "cell_type": "code",
   "execution_count": 123,
   "metadata": {},
   "outputs": [],
   "source": [
    "# 3. transforming data from tables_contens into df\n",
    "# 3.1 Columns\n",
    "columns_label = raw_tables_contents[0].get_text().replace(\" \", \"\")\n",
    "columns_label_list = list(filter(None, columns_label.split('\\n')))\n",
    "postal_codes_df = pd.DataFrame(columns=columns_label_list)"
   ]
  },
  {
   "cell_type": "code",
   "execution_count": 124,
   "metadata": {},
   "outputs": [],
   "source": [
    "# 3.2 Actual data\n",
    "# 3.2.1 Transform raw data and append into the df\n",
    "raw_data = raw_tables_contents[1:]\n",
    "for idx, row in enumerate(raw_data):\n",
    "   data_row = list(filter(None, row.get_text().split('\\n')))\n",
    "   postal_codes_df.loc[idx] = data_row"
   ]
  },
  {
   "cell_type": "code",
   "execution_count": 125,
   "metadata": {},
   "outputs": [],
   "source": [
    "# 3.2.2 Cleaning the df\n",
    "# Remove row with Borough == 'Not assigned'\n",
    "postal_codes_df = postal_codes_df[postal_codes_df.Borough != 'Not assigned']"
   ]
  },
  {
   "cell_type": "markdown",
   "metadata": {},
   "source": [
    "### Remarks:\n",
    "1. In the data table, if Neightborhood is 'Not assigned', Borough must be 'Not assigned' as well, so no extra efforts are spent to clean such data. <br/>\n",
    "2. Neighborhoods with same PostalCode are combined into one row, delimited by ',' by default, so no extra efforts are spent to clean such data."
   ]
  },
  {
   "cell_type": "code",
   "execution_count": 136,
   "metadata": {},
   "outputs": [
    {
     "data": {
      "text/plain": [
       "(0, 3)"
      ]
     },
     "execution_count": 136,
     "metadata": {},
     "output_type": "execute_result"
    }
   ],
   "source": [
    "postal_codes_df[postal_codes_df.Neighborhood == 'Not assigned'].shape"
   ]
  },
  {
   "cell_type": "code",
   "execution_count": 133,
   "metadata": {},
   "outputs": [
    {
     "data": {
      "text/html": [
       "<div>\n",
       "<style scoped>\n",
       "    .dataframe tbody tr th:only-of-type {\n",
       "        vertical-align: middle;\n",
       "    }\n",
       "\n",
       "    .dataframe tbody tr th {\n",
       "        vertical-align: top;\n",
       "    }\n",
       "\n",
       "    .dataframe thead th {\n",
       "        text-align: right;\n",
       "    }\n",
       "</style>\n",
       "<table border=\"1\" class=\"dataframe\">\n",
       "  <thead>\n",
       "    <tr style=\"text-align: right;\">\n",
       "      <th></th>\n",
       "      <th>PostalCode</th>\n",
       "      <th>Borough</th>\n",
       "      <th>Neighborhood</th>\n",
       "    </tr>\n",
       "  </thead>\n",
       "  <tbody>\n",
       "    <tr>\n",
       "      <th>0</th>\n",
       "      <td>M3A</td>\n",
       "      <td>North York</td>\n",
       "      <td>Parkwoods</td>\n",
       "    </tr>\n",
       "    <tr>\n",
       "      <th>1</th>\n",
       "      <td>M4A</td>\n",
       "      <td>North York</td>\n",
       "      <td>Victoria Village</td>\n",
       "    </tr>\n",
       "    <tr>\n",
       "      <th>2</th>\n",
       "      <td>M5A</td>\n",
       "      <td>Downtown Toronto</td>\n",
       "      <td>Regent Park, Harbourfront</td>\n",
       "    </tr>\n",
       "    <tr>\n",
       "      <th>3</th>\n",
       "      <td>M6A</td>\n",
       "      <td>North York</td>\n",
       "      <td>Lawrence Manor, Lawrence Heights</td>\n",
       "    </tr>\n",
       "    <tr>\n",
       "      <th>4</th>\n",
       "      <td>M7A</td>\n",
       "      <td>Downtown Toronto</td>\n",
       "      <td>Queen's Park, Ontario Provincial Government</td>\n",
       "    </tr>\n",
       "  </tbody>\n",
       "</table>\n",
       "</div>"
      ],
      "text/plain": [
       "  PostalCode           Borough                                 Neighborhood\n",
       "0        M3A        North York                                    Parkwoods\n",
       "1        M4A        North York                             Victoria Village\n",
       "2        M5A  Downtown Toronto                    Regent Park, Harbourfront\n",
       "3        M6A        North York             Lawrence Manor, Lawrence Heights\n",
       "4        M7A  Downtown Toronto  Queen's Park, Ontario Provincial Government"
      ]
     },
     "execution_count": 133,
     "metadata": {},
     "output_type": "execute_result"
    }
   ],
   "source": [
    "postal_codes_df.reset_index(drop=True, inplace=True)\n",
    "postal_codes_df.head()"
   ]
  },
  {
   "cell_type": "code",
   "execution_count": 130,
   "metadata": {},
   "outputs": [
    {
     "data": {
      "text/plain": [
       "(103, 3)"
      ]
     },
     "execution_count": 130,
     "metadata": {},
     "output_type": "execute_result"
    }
   ],
   "source": [
    "postal_codes_df.shape"
   ]
  }
 ],
 "metadata": {
  "kernelspec": {
   "display_name": "Python",
   "language": "python",
   "name": "conda-env-python-py"
  },
  "language_info": {
   "codemirror_mode": {
    "name": "ipython",
    "version": 3
   },
   "file_extension": ".py",
   "mimetype": "text/x-python",
   "name": "python",
   "nbconvert_exporter": "python",
   "pygments_lexer": "ipython3",
   "version": "3.6.10"
  }
 },
 "nbformat": 4,
 "nbformat_minor": 4
}
