{
 "cells": [
  {
   "cell_type": "markdown",
   "metadata": {},
   "source": [
    "<div style=\"text-align: center;\">\n",
    "    <h1>TC's Capstone Project for Applied Data Science</h1>\n",
    "    <h2>This notebook is being used for my Coursera's Applied Data Science Capstone Project</h2>\n",
    "    <span><img src=\"https://upload.wikimedia.org/wikipedia/en/a/aa/Bart_Simpson_200px.png\" alt=\"Bart Simpsons\" /></span>\n",
    "</div>"
   ]
  },
  {
   "cell_type": "code",
   "execution_count": 1,
   "metadata": {},
   "outputs": [
    {
     "name": "stdout",
     "output_type": "stream",
     "text": [
      "Collecting beautifulsoup4\n",
      "\u001b[?25l  Downloading https://files.pythonhosted.org/packages/66/25/ff030e2437265616a1e9b25ccc864e0371a0bc3adb7c5a404fd661c6f4f6/beautifulsoup4-4.9.1-py3-none-any.whl (115kB)\n",
      "\u001b[K     |████████████████████████████████| 122kB 6.1MB/s eta 0:00:01\n",
      "\u001b[?25hCollecting soupsieve>1.2 (from beautifulsoup4)\n",
      "  Downloading https://files.pythonhosted.org/packages/6f/8f/457f4a5390eeae1cc3aeab89deb7724c965be841ffca6cfca9197482e470/soupsieve-2.0.1-py3-none-any.whl\n",
      "Installing collected packages: soupsieve, beautifulsoup4\n",
      "Successfully installed beautifulsoup4-4.9.1 soupsieve-2.0.1\n",
      "Collecting lxml\n",
      "\u001b[?25l  Downloading https://files.pythonhosted.org/packages/55/6f/c87dffdd88a54dd26a3a9fef1d14b6384a9933c455c54ce3ca7d64a84c88/lxml-4.5.1-cp36-cp36m-manylinux1_x86_64.whl (5.5MB)\n",
      "\u001b[K     |████████████████████████████████| 5.5MB 21.2MB/s eta 0:00:01     |██████████▌                     | 1.8MB 21.2MB/s eta 0:00:01\n",
      "\u001b[?25hInstalling collected packages: lxml\n",
      "Successfully installed lxml-4.5.1\n",
      "WARNING: The easy_install command is deprecated and will be removed in a future version.\n",
      "Searching for lxml\n",
      "Best match: lxml 4.5.1\n",
      "\n",
      "Using /home/jupyterlab/conda/envs/python/lib/python3.6/site-packages\n",
      "Because this distribution was installed --multi-version, before you can\n",
      "import modules from this package in an application, you will need to\n",
      "'import pkg_resources' and then use a 'require()' call similar to one of\n",
      "these examples, in order to select the desired version:\n",
      "\n",
      "    pkg_resources.require(\"lxml\")  # latest installed version\n",
      "    pkg_resources.require(\"lxml==4.5.1\")  # this exact version\n",
      "    pkg_resources.require(\"lxml>=4.5.1\")  # this version or higher\n",
      "\n",
      "Processing dependencies for lxml\n",
      "Finished processing dependencies for lxml\n"
     ]
    }
   ],
   "source": [
    "# 0. Installing Beautiful Soup 4 for scraping html/xml doc\n",
    "!pip install beautifulsoup4\n",
    "!pip install lxml\n",
    "!easy_install -m  lxml\n"
   ]
  },
  {
   "cell_type": "code",
   "execution_count": 11,
   "metadata": {},
   "outputs": [
    {
     "name": "stdout",
     "output_type": "stream",
     "text": [
      "Collecting geocoder\n",
      "\u001b[?25l  Downloading https://files.pythonhosted.org/packages/4f/6b/13166c909ad2f2d76b929a4227c952630ebaf0d729f6317eb09cbceccbab/geocoder-1.38.1-py2.py3-none-any.whl (98kB)\n",
      "\u001b[K     |████████████████████████████████| 102kB 14.7MB/s ta 0:00:01\n",
      "\u001b[?25hCollecting click (from geocoder)\n",
      "\u001b[?25l  Downloading https://files.pythonhosted.org/packages/d2/3d/fa76db83bf75c4f8d338c2fd15c8d33fdd7ad23a9b5e57eb6c5de26b430e/click-7.1.2-py2.py3-none-any.whl (82kB)\n",
      "\u001b[K     |████████████████████████████████| 92kB 6.0MB/s eta 0:00:011\n",
      "\u001b[?25hRequirement already satisfied: requests in /home/jupyterlab/conda/envs/python/lib/python3.6/site-packages (from geocoder) (2.23.0)\n",
      "Collecting ratelim (from geocoder)\n",
      "  Downloading https://files.pythonhosted.org/packages/f2/98/7e6d147fd16a10a5f821db6e25f192265d6ecca3d82957a4fdd592cad49c/ratelim-0.1.6-py2.py3-none-any.whl\n",
      "Collecting future (from geocoder)\n",
      "\u001b[?25l  Downloading https://files.pythonhosted.org/packages/45/0b/38b06fd9b92dc2b68d58b75f900e97884c45bedd2ff83203d933cf5851c9/future-0.18.2.tar.gz (829kB)\n",
      "\u001b[K     |████████████████████████████████| 829kB 26.9MB/s eta 0:00:01\n",
      "\u001b[?25hRequirement already satisfied: six in /home/jupyterlab/conda/envs/python/lib/python3.6/site-packages (from geocoder) (1.14.0)\n",
      "Requirement already satisfied: certifi>=2017.4.17 in /home/jupyterlab/conda/envs/python/lib/python3.6/site-packages (from requests->geocoder) (2020.4.5.1)\n",
      "Requirement already satisfied: chardet<4,>=3.0.2 in /home/jupyterlab/conda/envs/python/lib/python3.6/site-packages (from requests->geocoder) (3.0.4)\n",
      "Requirement already satisfied: urllib3!=1.25.0,!=1.25.1,<1.26,>=1.21.1 in /home/jupyterlab/conda/envs/python/lib/python3.6/site-packages (from requests->geocoder) (1.25.9)\n",
      "Requirement already satisfied: idna<3,>=2.5 in /home/jupyterlab/conda/envs/python/lib/python3.6/site-packages (from requests->geocoder) (2.9)\n",
      "Requirement already satisfied: decorator in /home/jupyterlab/conda/envs/python/lib/python3.6/site-packages (from ratelim->geocoder) (4.4.2)\n",
      "Building wheels for collected packages: future\n",
      "  Building wheel for future (setup.py) ... \u001b[?25ldone\n",
      "\u001b[?25h  Stored in directory: /home/jupyterlab/.cache/pip/wheels/8b/99/a0/81daf51dcd359a9377b110a8a886b3895921802d2fc1b2397e\n",
      "Successfully built future\n",
      "Installing collected packages: click, ratelim, future, geocoder\n",
      "Successfully installed click-7.1.2 future-0.18.2 geocoder-1.38.1 ratelim-0.1.6\n"
     ]
    }
   ],
   "source": [
    "# Install python geocoder\n",
    "!pip install geocoder"
   ]
  },
  {
   "cell_type": "code",
   "execution_count": 12,
   "metadata": {},
   "outputs": [],
   "source": [
    "# 1. Import Library\n",
    "import numpy as np \n",
    "import pandas as pd\n",
    "import requests\n",
    "import json\n",
    "from pandas.io.json import json_normalize\n",
    "from bs4 import BeautifulSoup\n",
    "import lxml\n",
    "import lxml.etree\n",
    "\n",
    "# import geocoder\n",
    "import geocoder "
   ]
  },
  {
   "cell_type": "markdown",
   "metadata": {},
   "source": [
    "### Remarks:\n",
    "1. Beautiful Soup library is used to parse the HTML page into BeautifulSoup Object object for result manipulation\n",
    "2. Default parser has been used in this case"
   ]
  },
  {
   "cell_type": "code",
   "execution_count": 3,
   "metadata": {},
   "outputs": [],
   "source": [
    "# 2. Get the page on wiki\n",
    "url = 'https://en.wikipedia.org/wiki/List_of_postal_codes_of_Canada:_M'\n",
    "res = requests.get(url)\n",
    "soup = BeautifulSoup(res.content)\n",
    "raw_tables_contents = soup.table.find_all(\"tr\")"
   ]
  },
  {
   "cell_type": "code",
   "execution_count": 4,
   "metadata": {},
   "outputs": [],
   "source": [
    "# 3. transforming data from tables_contens into df\n",
    "# 3.1 Columns\n",
    "columns_label = raw_tables_contents[0].get_text().replace(\" \", \"\")\n",
    "columns_label_list = list(filter(None, columns_label.split('\\n')))\n",
    "postal_codes_df = pd.DataFrame(columns=columns_label_list)"
   ]
  },
  {
   "cell_type": "code",
   "execution_count": 5,
   "metadata": {},
   "outputs": [],
   "source": [
    "# 3.2 Actual data\n",
    "# 3.2.1 Transform raw data and append into the df\n",
    "raw_data = raw_tables_contents[1:]\n",
    "for idx, row in enumerate(raw_data):\n",
    "   data_row = list(filter(None, row.get_text().split('\\n')))\n",
    "   postal_codes_df.loc[idx] = data_row"
   ]
  },
  {
   "cell_type": "code",
   "execution_count": 6,
   "metadata": {},
   "outputs": [],
   "source": [
    "# 3.2.2 Cleaning the df\n",
    "# Remove row with Borough == 'Not assigned'\n",
    "postal_codes_df = postal_codes_df[postal_codes_df.Borough != 'Not assigned']"
   ]
  },
  {
   "cell_type": "markdown",
   "metadata": {},
   "source": [
    "### Remarks:\n",
    "1. In the data table, if Neightborhood is 'Not assigned', Borough must be 'Not assigned' as well, so no extra efforts are spent to clean such data. <br/>\n",
    "2. Neighborhoods with same PostalCode are combined into one row, delimited by ',' by default, so no extra efforts are spent to clean such data."
   ]
  },
  {
   "cell_type": "code",
   "execution_count": 7,
   "metadata": {},
   "outputs": [
    {
     "data": {
      "text/plain": [
       "(0, 3)"
      ]
     },
     "execution_count": 7,
     "metadata": {},
     "output_type": "execute_result"
    }
   ],
   "source": [
    "postal_codes_df[postal_codes_df.Neighborhood == 'Not assigned'].shape"
   ]
  },
  {
   "cell_type": "code",
   "execution_count": 8,
   "metadata": {},
   "outputs": [
    {
     "data": {
      "text/html": [
       "<div>\n",
       "<style scoped>\n",
       "    .dataframe tbody tr th:only-of-type {\n",
       "        vertical-align: middle;\n",
       "    }\n",
       "\n",
       "    .dataframe tbody tr th {\n",
       "        vertical-align: top;\n",
       "    }\n",
       "\n",
       "    .dataframe thead th {\n",
       "        text-align: right;\n",
       "    }\n",
       "</style>\n",
       "<table border=\"1\" class=\"dataframe\">\n",
       "  <thead>\n",
       "    <tr style=\"text-align: right;\">\n",
       "      <th></th>\n",
       "      <th>PostalCode</th>\n",
       "      <th>Borough</th>\n",
       "      <th>Neighborhood</th>\n",
       "    </tr>\n",
       "  </thead>\n",
       "  <tbody>\n",
       "    <tr>\n",
       "      <th>0</th>\n",
       "      <td>M3A</td>\n",
       "      <td>North York</td>\n",
       "      <td>Parkwoods</td>\n",
       "    </tr>\n",
       "    <tr>\n",
       "      <th>1</th>\n",
       "      <td>M4A</td>\n",
       "      <td>North York</td>\n",
       "      <td>Victoria Village</td>\n",
       "    </tr>\n",
       "    <tr>\n",
       "      <th>2</th>\n",
       "      <td>M5A</td>\n",
       "      <td>Downtown Toronto</td>\n",
       "      <td>Regent Park, Harbourfront</td>\n",
       "    </tr>\n",
       "    <tr>\n",
       "      <th>3</th>\n",
       "      <td>M6A</td>\n",
       "      <td>North York</td>\n",
       "      <td>Lawrence Manor, Lawrence Heights</td>\n",
       "    </tr>\n",
       "    <tr>\n",
       "      <th>4</th>\n",
       "      <td>M7A</td>\n",
       "      <td>Downtown Toronto</td>\n",
       "      <td>Queen's Park, Ontario Provincial Government</td>\n",
       "    </tr>\n",
       "  </tbody>\n",
       "</table>\n",
       "</div>"
      ],
      "text/plain": [
       "  PostalCode           Borough                                 Neighborhood\n",
       "0        M3A        North York                                    Parkwoods\n",
       "1        M4A        North York                             Victoria Village\n",
       "2        M5A  Downtown Toronto                    Regent Park, Harbourfront\n",
       "3        M6A        North York             Lawrence Manor, Lawrence Heights\n",
       "4        M7A  Downtown Toronto  Queen's Park, Ontario Provincial Government"
      ]
     },
     "execution_count": 8,
     "metadata": {},
     "output_type": "execute_result"
    }
   ],
   "source": [
    "postal_codes_df.reset_index(drop=True, inplace=True)\n",
    "postal_codes_df.head()"
   ]
  },
  {
   "cell_type": "code",
   "execution_count": 9,
   "metadata": {},
   "outputs": [
    {
     "data": {
      "text/plain": [
       "(103, 3)"
      ]
     },
     "execution_count": 9,
     "metadata": {},
     "output_type": "execute_result"
    }
   ],
   "source": [
    "postal_codes_df.shape"
   ]
  },
  {
   "cell_type": "code",
   "execution_count": 16,
   "metadata": {},
   "outputs": [
    {
     "name": "stdout",
     "output_type": "stream",
     "text": [
      "--2020-06-16 20:35:34--  http://cocl.us/Geospatial_data\n",
      "Resolving cocl.us (cocl.us)... 158.85.108.86, 169.48.113.194, 158.85.108.83\n",
      "Connecting to cocl.us (cocl.us)|158.85.108.86|:80... connected.\n",
      "HTTP request sent, awaiting response... 301 Moved Permanently\n",
      "Location: https://cocl.us/Geospatial_data [following]\n",
      "--2020-06-16 20:35:34--  https://cocl.us/Geospatial_data\n",
      "Connecting to cocl.us (cocl.us)|158.85.108.86|:443... connected.\n",
      "HTTP request sent, awaiting response... 301 Moved Permanently\n",
      "Location: https://ibm.box.com/shared/static/9afzr83pps4pwf2smjjcf1y5mvgb18rr.csv [following]\n",
      "--2020-06-16 20:35:35--  https://ibm.box.com/shared/static/9afzr83pps4pwf2smjjcf1y5mvgb18rr.csv\n",
      "Resolving ibm.box.com (ibm.box.com)... 107.152.29.197\n",
      "Connecting to ibm.box.com (ibm.box.com)|107.152.29.197|:443... connected.\n",
      "HTTP request sent, awaiting response... 301 Moved Permanently\n",
      "Location: /public/static/9afzr83pps4pwf2smjjcf1y5mvgb18rr.csv [following]\n",
      "--2020-06-16 20:35:35--  https://ibm.box.com/public/static/9afzr83pps4pwf2smjjcf1y5mvgb18rr.csv\n",
      "Reusing existing connection to ibm.box.com:443.\n",
      "HTTP request sent, awaiting response... 301 Moved Permanently\n",
      "Location: https://ibm.ent.box.com/public/static/9afzr83pps4pwf2smjjcf1y5mvgb18rr.csv [following]\n",
      "--2020-06-16 20:35:35--  https://ibm.ent.box.com/public/static/9afzr83pps4pwf2smjjcf1y5mvgb18rr.csv\n",
      "Resolving ibm.ent.box.com (ibm.ent.box.com)... 107.152.27.211\n",
      "Connecting to ibm.ent.box.com (ibm.ent.box.com)|107.152.27.211|:443... connected.\n",
      "HTTP request sent, awaiting response... 302 Found\n",
      "Location: https://public.boxcloud.com/d/1/b1!cFVa7yQDJQfbT48ZtZepd3W1sJKuhsHG0mt3Q5FsEOtPxoti7KBnRqMVuo0-i1UM5zBMVbggNsnRWfU6qai6jhk8S7S76qf0z99dDwLADja4IrK0C0f9Yk4U0v5b6vjmlJvUf0OVKP4FNIcSKm8g1dSoB62mkJ7qCO11HMFwEXcWk8juG5sXaLetVYs-d8gBorw5feoNnQvYmb-WQhT4DXy85DUvXXH8chsPknCS1lI25ROOItpq_QVp6HKtUwjCU7oXa8qKRMPE89jXn54UqLHqsfoTsjxuPc54fsAPAX8kDwo3bKUwGSFnyJlKsN0o1EsVjGomWyW4-6XeU_6TbIUKb_rjcQn3wu4gAkQEfxRZrlR1azzMtKGThswnbnDc0TAysDpk8nXQ6F5FSZbUpxJ0V29lDZ6qPYc9mWWDjc0ZD29Jo_O_IiwfbPbKOFymGebaeo8jSOxpuPj7_yD4FtMcCl5rRvrZAzYm7EKsbGlT7aFDhVH6Mh1xIQqjf5HkkhlRZxD2T5UI-kxhPcy-Ge6GGZXok8jX3hEpF9NmNmCI1IWHknLRo-fe8CsJLOPgmnmtgJ_OsLJuV1lpc0jX23oxYRoQ2f2VvEbXWSZGfBIU_QeBco80OUfwvlCTqIGFlLmnJ2ZX70DkNV2mV0jDpny0nHcjDTqfjy1D983fCSH5IrS39MMs7mqaF9hQ4YpIJCEpzIpbYU0RswBNBLBH9N-DLlecScvFTHpqUN0EijIH11gzc1D-VSScEecDER0tkWWHMP4tYBiLYyXLgBGwFAgHhWd6Q1xte_3uoOaj8lqgtcBdzj5MYi9EOeAQIL4-owiucVLTNwaMFt3eZ_KyFoOXZKmGgD1qOP-fBs_45sXdfnywc4SwcTHr-xM3AIiLZ7S-Uprk94QtjAPh0rd-D9p6SZx2g9FTdlq5mO77joAvIFe_pMKFuJiGhpQpI42dATR22WdHQMj4m-ZvxUrSX--TrcVIPM2edaBR34jj0irsNEXLViohhntH2sdPPHt46k95O51n7bH_91bXzB0U5y6GRrz5-GBFxweC5_8JhtfopT-lGyjiM4fBY8D25pOz1i4_6EcHGdP4h_-6bHmidyc_m9mr9PUCkFXoni7faEBOVEZqBGdBJTKwY988u94_xutW06JgCi5ZmrMLuCI0N3fYeKAnTmLZBEXCgUds12PMGxUPfHpMzEkT5SJp9gm9IxebnuxnCGHa7prMOutNWKS-F_7bX79hFak15hPwXZv_vFuUk9tTlza5Rbd-FGr-3EqaFlrVNdJTD4LqgVq1kT7FTV2gJrAw_QFyTeAJNB1lVfBH6dJguKCSUGtf19_KlcYcNSpRo0b0tRMjsnXWY3nMnwOeTMra3ebqzeAqt7oXYPsYBCVEwwOb3pNULSHuzOfRcqE_1tZUE1mw_9-wBm4ExERcjC7mUG80YSUq5jn1/download [following]\n",
      "--2020-06-16 20:35:36--  https://public.boxcloud.com/d/1/b1!cFVa7yQDJQfbT48ZtZepd3W1sJKuhsHG0mt3Q5FsEOtPxoti7KBnRqMVuo0-i1UM5zBMVbggNsnRWfU6qai6jhk8S7S76qf0z99dDwLADja4IrK0C0f9Yk4U0v5b6vjmlJvUf0OVKP4FNIcSKm8g1dSoB62mkJ7qCO11HMFwEXcWk8juG5sXaLetVYs-d8gBorw5feoNnQvYmb-WQhT4DXy85DUvXXH8chsPknCS1lI25ROOItpq_QVp6HKtUwjCU7oXa8qKRMPE89jXn54UqLHqsfoTsjxuPc54fsAPAX8kDwo3bKUwGSFnyJlKsN0o1EsVjGomWyW4-6XeU_6TbIUKb_rjcQn3wu4gAkQEfxRZrlR1azzMtKGThswnbnDc0TAysDpk8nXQ6F5FSZbUpxJ0V29lDZ6qPYc9mWWDjc0ZD29Jo_O_IiwfbPbKOFymGebaeo8jSOxpuPj7_yD4FtMcCl5rRvrZAzYm7EKsbGlT7aFDhVH6Mh1xIQqjf5HkkhlRZxD2T5UI-kxhPcy-Ge6GGZXok8jX3hEpF9NmNmCI1IWHknLRo-fe8CsJLOPgmnmtgJ_OsLJuV1lpc0jX23oxYRoQ2f2VvEbXWSZGfBIU_QeBco80OUfwvlCTqIGFlLmnJ2ZX70DkNV2mV0jDpny0nHcjDTqfjy1D983fCSH5IrS39MMs7mqaF9hQ4YpIJCEpzIpbYU0RswBNBLBH9N-DLlecScvFTHpqUN0EijIH11gzc1D-VSScEecDER0tkWWHMP4tYBiLYyXLgBGwFAgHhWd6Q1xte_3uoOaj8lqgtcBdzj5MYi9EOeAQIL4-owiucVLTNwaMFt3eZ_KyFoOXZKmGgD1qOP-fBs_45sXdfnywc4SwcTHr-xM3AIiLZ7S-Uprk94QtjAPh0rd-D9p6SZx2g9FTdlq5mO77joAvIFe_pMKFuJiGhpQpI42dATR22WdHQMj4m-ZvxUrSX--TrcVIPM2edaBR34jj0irsNEXLViohhntH2sdPPHt46k95O51n7bH_91bXzB0U5y6GRrz5-GBFxweC5_8JhtfopT-lGyjiM4fBY8D25pOz1i4_6EcHGdP4h_-6bHmidyc_m9mr9PUCkFXoni7faEBOVEZqBGdBJTKwY988u94_xutW06JgCi5ZmrMLuCI0N3fYeKAnTmLZBEXCgUds12PMGxUPfHpMzEkT5SJp9gm9IxebnuxnCGHa7prMOutNWKS-F_7bX79hFak15hPwXZv_vFuUk9tTlza5Rbd-FGr-3EqaFlrVNdJTD4LqgVq1kT7FTV2gJrAw_QFyTeAJNB1lVfBH6dJguKCSUGtf19_KlcYcNSpRo0b0tRMjsnXWY3nMnwOeTMra3ebqzeAqt7oXYPsYBCVEwwOb3pNULSHuzOfRcqE_1tZUE1mw_9-wBm4ExERcjC7mUG80YSUq5jn1/download\n",
      "Resolving public.boxcloud.com (public.boxcloud.com)... 107.152.27.200\n",
      "Connecting to public.boxcloud.com (public.boxcloud.com)|107.152.27.200|:443... connected.\n",
      "HTTP request sent, awaiting response... 200 OK\n",
      "Length: 2891 (2.8K) [text/csv]\n",
      "Saving to: ‘Geospatial_data.csv’\n",
      "\n",
      "Geospatial_data.csv 100%[===================>]   2.82K  --.-KB/s    in 0s      \n",
      "\n",
      "2020-06-16 20:35:36 (7.10 MB/s) - ‘Geospatial_data.csv’ saved [2891/2891]\n",
      "\n"
     ]
    }
   ],
   "source": [
    "# Get the csv for Latitude and Longitude\n",
    "!wget -O Geospatial_data.csv http://cocl.us/Geospatial_data"
   ]
  },
  {
   "cell_type": "code",
   "execution_count": 31,
   "metadata": {},
   "outputs": [
    {
     "data": {
      "text/html": [
       "<div>\n",
       "<style scoped>\n",
       "    .dataframe tbody tr th:only-of-type {\n",
       "        vertical-align: middle;\n",
       "    }\n",
       "\n",
       "    .dataframe tbody tr th {\n",
       "        vertical-align: top;\n",
       "    }\n",
       "\n",
       "    .dataframe thead th {\n",
       "        text-align: right;\n",
       "    }\n",
       "</style>\n",
       "<table border=\"1\" class=\"dataframe\">\n",
       "  <thead>\n",
       "    <tr style=\"text-align: right;\">\n",
       "      <th></th>\n",
       "      <th>Latitude</th>\n",
       "      <th>Longitude</th>\n",
       "    </tr>\n",
       "    <tr>\n",
       "      <th>PostalCode</th>\n",
       "      <th></th>\n",
       "      <th></th>\n",
       "    </tr>\n",
       "  </thead>\n",
       "  <tbody>\n",
       "    <tr>\n",
       "      <th>M1B</th>\n",
       "      <td>43.8066863</td>\n",
       "      <td>-79.1943534</td>\n",
       "    </tr>\n",
       "    <tr>\n",
       "      <th>M1C</th>\n",
       "      <td>43.7845351</td>\n",
       "      <td>-79.1604971</td>\n",
       "    </tr>\n",
       "    <tr>\n",
       "      <th>M1E</th>\n",
       "      <td>43.7635726</td>\n",
       "      <td>-79.1887115</td>\n",
       "    </tr>\n",
       "    <tr>\n",
       "      <th>M1G</th>\n",
       "      <td>43.7709921</td>\n",
       "      <td>-79.2169174</td>\n",
       "    </tr>\n",
       "    <tr>\n",
       "      <th>M1H</th>\n",
       "      <td>43.773136</td>\n",
       "      <td>-79.2394761</td>\n",
       "    </tr>\n",
       "  </tbody>\n",
       "</table>\n",
       "</div>"
      ],
      "text/plain": [
       "              Latitude    Longitude\n",
       "PostalCode                         \n",
       "M1B         43.8066863  -79.1943534\n",
       "M1C         43.7845351  -79.1604971\n",
       "M1E         43.7635726  -79.1887115\n",
       "M1G         43.7709921  -79.2169174\n",
       "M1H          43.773136  -79.2394761"
      ]
     },
     "execution_count": 31,
     "metadata": {},
     "output_type": "execute_result"
    }
   ],
   "source": [
    "geo_partial_data = pd.read_csv(\"Geospatial_data.csv\", delimiter=\",\", names=['PostalCode', 'Latitude', 'Longitude'])\n",
    "geo_partial_data = geo_partial_data.iloc[1:].set_index('PostalCode')\n",
    "geo_partial_data.head()"
   ]
  },
  {
   "cell_type": "code",
   "execution_count": 26,
   "metadata": {},
   "outputs": [
    {
     "data": {
      "text/html": [
       "<div>\n",
       "<style scoped>\n",
       "    .dataframe tbody tr th:only-of-type {\n",
       "        vertical-align: middle;\n",
       "    }\n",
       "\n",
       "    .dataframe tbody tr th {\n",
       "        vertical-align: top;\n",
       "    }\n",
       "\n",
       "    .dataframe thead th {\n",
       "        text-align: right;\n",
       "    }\n",
       "</style>\n",
       "<table border=\"1\" class=\"dataframe\">\n",
       "  <thead>\n",
       "    <tr style=\"text-align: right;\">\n",
       "      <th></th>\n",
       "      <th>PostalCode</th>\n",
       "      <th>Borough</th>\n",
       "      <th>Neighborhood</th>\n",
       "    </tr>\n",
       "  </thead>\n",
       "  <tbody>\n",
       "    <tr>\n",
       "      <th>0</th>\n",
       "      <td>M3A</td>\n",
       "      <td>North York</td>\n",
       "      <td>Parkwoods</td>\n",
       "    </tr>\n",
       "    <tr>\n",
       "      <th>1</th>\n",
       "      <td>M4A</td>\n",
       "      <td>North York</td>\n",
       "      <td>Victoria Village</td>\n",
       "    </tr>\n",
       "    <tr>\n",
       "      <th>2</th>\n",
       "      <td>M5A</td>\n",
       "      <td>Downtown Toronto</td>\n",
       "      <td>Regent Park, Harbourfront</td>\n",
       "    </tr>\n",
       "    <tr>\n",
       "      <th>3</th>\n",
       "      <td>M6A</td>\n",
       "      <td>North York</td>\n",
       "      <td>Lawrence Manor, Lawrence Heights</td>\n",
       "    </tr>\n",
       "    <tr>\n",
       "      <th>4</th>\n",
       "      <td>M7A</td>\n",
       "      <td>Downtown Toronto</td>\n",
       "      <td>Queen's Park, Ontario Provincial Government</td>\n",
       "    </tr>\n",
       "  </tbody>\n",
       "</table>\n",
       "</div>"
      ],
      "text/plain": [
       "  PostalCode           Borough                                 Neighborhood\n",
       "0        M3A        North York                                    Parkwoods\n",
       "1        M4A        North York                             Victoria Village\n",
       "2        M5A  Downtown Toronto                    Regent Park, Harbourfront\n",
       "3        M6A        North York             Lawrence Manor, Lawrence Heights\n",
       "4        M7A  Downtown Toronto  Queen's Park, Ontario Provincial Government"
      ]
     },
     "execution_count": 26,
     "metadata": {},
     "output_type": "execute_result"
    }
   ],
   "source": [
    "postal_codes_df.head()"
   ]
  },
  {
   "cell_type": "code",
   "execution_count": 41,
   "metadata": {},
   "outputs": [
    {
     "data": {
      "text/html": [
       "<div>\n",
       "<style scoped>\n",
       "    .dataframe tbody tr th:only-of-type {\n",
       "        vertical-align: middle;\n",
       "    }\n",
       "\n",
       "    .dataframe tbody tr th {\n",
       "        vertical-align: top;\n",
       "    }\n",
       "\n",
       "    .dataframe thead th {\n",
       "        text-align: right;\n",
       "    }\n",
       "</style>\n",
       "<table border=\"1\" class=\"dataframe\">\n",
       "  <thead>\n",
       "    <tr style=\"text-align: right;\">\n",
       "      <th></th>\n",
       "      <th>PostalCode</th>\n",
       "      <th>Borough</th>\n",
       "      <th>Neighborhood</th>\n",
       "      <th>Latitude</th>\n",
       "      <th>Longitude</th>\n",
       "    </tr>\n",
       "  </thead>\n",
       "  <tbody>\n",
       "    <tr>\n",
       "      <th>0</th>\n",
       "      <td>M3A</td>\n",
       "      <td>North York</td>\n",
       "      <td>Parkwoods</td>\n",
       "      <td>43.7532586</td>\n",
       "      <td>-79.3296565</td>\n",
       "    </tr>\n",
       "    <tr>\n",
       "      <th>1</th>\n",
       "      <td>M4A</td>\n",
       "      <td>North York</td>\n",
       "      <td>Victoria Village</td>\n",
       "      <td>43.7258823</td>\n",
       "      <td>-79.3155716</td>\n",
       "    </tr>\n",
       "    <tr>\n",
       "      <th>2</th>\n",
       "      <td>M5A</td>\n",
       "      <td>Downtown Toronto</td>\n",
       "      <td>Regent Park, Harbourfront</td>\n",
       "      <td>43.6542599</td>\n",
       "      <td>-79.3606359</td>\n",
       "    </tr>\n",
       "    <tr>\n",
       "      <th>3</th>\n",
       "      <td>M6A</td>\n",
       "      <td>North York</td>\n",
       "      <td>Lawrence Manor, Lawrence Heights</td>\n",
       "      <td>43.718518</td>\n",
       "      <td>-79.4647633</td>\n",
       "    </tr>\n",
       "    <tr>\n",
       "      <th>4</th>\n",
       "      <td>M7A</td>\n",
       "      <td>Downtown Toronto</td>\n",
       "      <td>Queen's Park, Ontario Provincial Government</td>\n",
       "      <td>43.6623015</td>\n",
       "      <td>-79.3894938</td>\n",
       "    </tr>\n",
       "  </tbody>\n",
       "</table>\n",
       "</div>"
      ],
      "text/plain": [
       "  PostalCode           Borough                                 Neighborhood  \\\n",
       "0        M3A        North York                                    Parkwoods   \n",
       "1        M4A        North York                             Victoria Village   \n",
       "2        M5A  Downtown Toronto                    Regent Park, Harbourfront   \n",
       "3        M6A        North York             Lawrence Manor, Lawrence Heights   \n",
       "4        M7A  Downtown Toronto  Queen's Park, Ontario Provincial Government   \n",
       "\n",
       "     Latitude    Longitude  \n",
       "0  43.7532586  -79.3296565  \n",
       "1  43.7258823  -79.3155716  \n",
       "2  43.6542599  -79.3606359  \n",
       "3   43.718518  -79.4647633  \n",
       "4  43.6623015  -79.3894938  "
      ]
     },
     "execution_count": 41,
     "metadata": {},
     "output_type": "execute_result"
    }
   ],
   "source": [
    "# Merge geo_partial_data with postal_codes_df\n",
    "pc_geo_df = postal_codes_df.join(geo_partial_data, how='inner', on='PostalCode')\n",
    "pc_geo_df.head()"
   ]
  },
  {
   "cell_type": "code",
   "execution_count": 47,
   "metadata": {},
   "outputs": [
    {
     "data": {
      "text/html": [
       "<div>\n",
       "<style scoped>\n",
       "    .dataframe tbody tr th:only-of-type {\n",
       "        vertical-align: middle;\n",
       "    }\n",
       "\n",
       "    .dataframe tbody tr th {\n",
       "        vertical-align: top;\n",
       "    }\n",
       "\n",
       "    .dataframe thead th {\n",
       "        text-align: right;\n",
       "    }\n",
       "</style>\n",
       "<table border=\"1\" class=\"dataframe\">\n",
       "  <thead>\n",
       "    <tr style=\"text-align: right;\">\n",
       "      <th></th>\n",
       "      <th>PostalCode</th>\n",
       "      <th>Borough</th>\n",
       "      <th>Neighborhood</th>\n",
       "      <th>Latitude</th>\n",
       "      <th>Longitude</th>\n",
       "    </tr>\n",
       "  </thead>\n",
       "  <tbody>\n",
       "    <tr>\n",
       "      <th>89</th>\n",
       "      <td>M9V</td>\n",
       "      <td>Etobicoke</td>\n",
       "      <td>South Steeles, Silverstone, Humbergate, Jamest...</td>\n",
       "      <td>43.7394164</td>\n",
       "      <td>-79.5884369</td>\n",
       "    </tr>\n",
       "  </tbody>\n",
       "</table>\n",
       "</div>"
      ],
      "text/plain": [
       "   PostalCode    Borough                                       Neighborhood  \\\n",
       "89        M9V  Etobicoke  South Steeles, Silverstone, Humbergate, Jamest...   \n",
       "\n",
       "      Latitude    Longitude  \n",
       "89  43.7394164  -79.5884369  "
      ]
     },
     "execution_count": 47,
     "metadata": {},
     "output_type": "execute_result"
    }
   ],
   "source": [
    "pc_geo_df.loc[pc_geo_df['PostalCode']=='M9V']"
   ]
  },
  {
   "cell_type": "code",
   "execution_count": null,
   "metadata": {},
   "outputs": [],
   "source": []
  }
 ],
 "metadata": {
  "kernelspec": {
   "display_name": "Python",
   "language": "python",
   "name": "conda-env-python-py"
  },
  "language_info": {
   "codemirror_mode": {
    "name": "ipython",
    "version": 3
   },
   "file_extension": ".py",
   "mimetype": "text/x-python",
   "name": "python",
   "nbconvert_exporter": "python",
   "pygments_lexer": "ipython3",
   "version": "3.6.10"
  }
 },
 "nbformat": 4,
 "nbformat_minor": 4
}
